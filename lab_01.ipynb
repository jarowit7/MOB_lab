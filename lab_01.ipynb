{
  "nbformat": 4,
  "nbformat_minor": 0,
  "metadata": {
    "colab": {
      "provenance": [],
      "include_colab_link": true
    },
    "kernelspec": {
      "name": "python3",
      "display_name": "Python 3"
    },
    "language_info": {
      "name": "python"
    }
  },
  "cells": [
    {
      "cell_type": "markdown",
      "metadata": {
        "id": "view-in-github",
        "colab_type": "text"
      },
      "source": [
        "<a href=\"https://colab.research.google.com/github/jarowit7/MOB_lab/blob/main/lab_01.ipynb\" target=\"_parent\"><img src=\"https://colab.research.google.com/assets/colab-badge.svg\" alt=\"Open In Colab\"/></a>"
      ]
    },
    {
      "cell_type": "code",
      "execution_count": 3,
      "metadata": {
        "id": "yPPpgQ7i46p8"
      },
      "outputs": [],
      "source": [
        "# L1.1\n",
        "\n",
        "def silnia(n):\n",
        "  # oblicza silnię liczby całkowitej n >= 1\n",
        "  s = 1\n",
        "  for i in range(1,n+1):\n",
        "    s *= i\n",
        "  return s"
      ]
    },
    {
      "cell_type": "code",
      "source": [
        "# test\n",
        "print(silnia(1),\n",
        "silnia(6),\n",
        "silnia(10))\n"
      ],
      "metadata": {
        "id": "WDqdgG2C7ul2",
        "outputId": "1d6f5036-39c3-4237-e33b-c353db4e140d",
        "colab": {
          "base_uri": "https://localhost:8080/"
        }
      },
      "execution_count": 7,
      "outputs": [
        {
          "output_type": "stream",
          "name": "stdout",
          "text": [
            "1 720 3628800\n"
          ]
        }
      ]
    },
    {
      "cell_type": "code",
      "source": [
        "# L1.3\n",
        "\n",
        "def Fib(n):\n",
        "  # oblicza n-ty element ciągu Fibonacciego, n całkowite nieujemne\n",
        "\n",
        "  if type(n) != int or n < 0:\n",
        "    return print(\"Błąd na wejściu: podaj liczbę całkowitą nieujemną\")\n",
        "  elif n == 0:\n",
        "    return 0\n",
        "  elif n == 1:\n",
        "    return 1\n",
        "  else:\n",
        "    f2 = 0  # F_n-2\n",
        "    f1 = 1  # F_n-1\n",
        "    f0 = 0  # F_n\n",
        "    i=1\n",
        "    while i < n:\n",
        "      f0 = f1 + f2\n",
        "      f2 = f1\n",
        "      f1 = f0\n",
        "      i += 1\n",
        "    return f0"
      ],
      "metadata": {
        "id": "rXJb-OTa8SeX"
      },
      "execution_count": 55,
      "outputs": []
    },
    {
      "cell_type": "code",
      "source": [
        "# test L1.3\n",
        "\n",
        "for i in range(11):\n",
        "  print(\"F_%d = %d\"%(i, Fib(i)))"
      ],
      "metadata": {
        "id": "vIdZ5b3H_dUW",
        "outputId": "345a631d-7ad0-4a37-f07d-2429c048e677",
        "colab": {
          "base_uri": "https://localhost:8080/"
        }
      },
      "execution_count": 63,
      "outputs": [
        {
          "output_type": "stream",
          "name": "stdout",
          "text": [
            "F_0 = 0\n",
            "F_1 = 1\n",
            "F_2 = 1\n",
            "F_3 = 2\n",
            "F_4 = 3\n",
            "F_5 = 5\n",
            "F_6 = 8\n",
            "F_7 = 13\n",
            "F_8 = 21\n",
            "F_9 = 34\n",
            "F_10 = 55\n"
          ]
        }
      ]
    },
    {
      "cell_type": "code",
      "source": [],
      "metadata": {
        "id": "U81KghT1_ovm"
      },
      "execution_count": null,
      "outputs": []
    }
  ]
}