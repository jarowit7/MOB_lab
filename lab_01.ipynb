{
  "nbformat": 4,
  "nbformat_minor": 0,
  "metadata": {
    "colab": {
      "provenance": [],
      "include_colab_link": true
    },
    "kernelspec": {
      "name": "python3",
      "display_name": "Python 3"
    },
    "language_info": {
      "name": "python"
    }
  },
  "cells": [
    {
      "cell_type": "markdown",
      "metadata": {
        "id": "view-in-github",
        "colab_type": "text"
      },
      "source": [
        "<a href=\"https://colab.research.google.com/github/jarowit7/MOB_lab/blob/main/lab_01.ipynb\" target=\"_parent\"><img src=\"https://colab.research.google.com/assets/colab-badge.svg\" alt=\"Open In Colab\"/></a>"
      ]
    },
    {
      "cell_type": "code",
      "source": [
        "import numpy as np\n",
        "import matplotlib.pyplot as plt\n",
        "import math"
      ],
      "metadata": {
        "id": "_HXbT0bFIQlB"
      },
      "execution_count": 74,
      "outputs": []
    },
    {
      "cell_type": "code",
      "execution_count": 71,
      "metadata": {
        "id": "yPPpgQ7i46p8",
        "colab": {
          "base_uri": "https://localhost:8080/"
        },
        "outputId": "1e4f6738-491f-4397-8599-ddd505343d8d"
      },
      "outputs": [
        {
          "output_type": "stream",
          "name": "stdout",
          "text": [
            "1 720 3628800\n"
          ]
        }
      ],
      "source": [
        "# L1.1\n",
        "\n",
        "def silnia(n):\n",
        "  # oblicza silnię liczby całkowitej n >= 1\n",
        "  s = 1\n",
        "  for i in range(1,n+1):\n",
        "    s *= i\n",
        "  return s\n",
        "\n",
        "# test\n",
        "print(silnia(1),\n",
        "silnia(6),\n",
        "silnia(10))"
      ]
    },
    {
      "cell_type": "code",
      "source": [
        "# L1.3\n",
        "\n",
        "def Fib(n):\n",
        "  # oblicza n-ty element ciągu Fibonacciego, n całkowite nieujemne\n",
        "\n",
        "  if type(n) != int or n < 0:\n",
        "    return print(\"Błąd na wejściu: podaj liczbę całkowitą nieujemną\")\n",
        "  elif n == 0:\n",
        "    return 0\n",
        "  elif n == 1:\n",
        "    return 1\n",
        "  else:\n",
        "    f2 = 0  # F_n-2\n",
        "    f1 = 1  # F_n-1\n",
        "    f0 = 0  # F_n\n",
        "    i=1\n",
        "    while i < n:\n",
        "      f0 = f1 + f2\n",
        "      f2 = f1\n",
        "      f1 = f0\n",
        "      i += 1\n",
        "    return f0\n",
        "\n",
        "\n",
        "# test\n",
        "\n",
        "for i in range(11):\n",
        "  print(\"F_%d = %d\"%(i, Fib(i)))"
      ],
      "metadata": {
        "colab": {
          "base_uri": "https://localhost:8080/"
        },
        "id": "rXJb-OTa8SeX",
        "outputId": "1637d64c-3ee7-4e83-cff6-ae0716362c17"
      },
      "execution_count": 72,
      "outputs": [
        {
          "output_type": "stream",
          "name": "stdout",
          "text": [
            "F_0 = 0\n",
            "F_1 = 1\n",
            "F_2 = 1\n",
            "F_3 = 2\n",
            "F_4 = 3\n",
            "F_5 = 5\n",
            "F_6 = 8\n",
            "F_7 = 13\n",
            "F_8 = 21\n",
            "F_9 = 34\n",
            "F_10 = 55\n"
          ]
        }
      ]
    },
    {
      "cell_type": "code",
      "source": [
        "# L1.4\n",
        "\n",
        "def plusminus(v, w, s):\n",
        "  # zwraca v + s*w\n",
        "  # czyli suma dla s=+1 a róznica dla s=-1\n",
        "  return v + s*w\n",
        "\n",
        "# test\n",
        "v = np.array([1,2])\n",
        "w = np.array([3,4])\n",
        "plusminus(v, w, -1)"
      ],
      "metadata": {
        "colab": {
          "base_uri": "https://localhost:8080/"
        },
        "id": "U81KghT1_ovm",
        "outputId": "9afa8237-6384-4377-e2b6-1308359e4a49"
      },
      "execution_count": 73,
      "outputs": [
        {
          "output_type": "execute_result",
          "data": {
            "text/plain": [
              "array([-2, -2])"
            ]
          },
          "metadata": {},
          "execution_count": 73
        }
      ]
    },
    {
      "cell_type": "code",
      "source": [
        "# L1.5\n",
        "\n",
        "x = np.linspace(-2, 2, 401)\n",
        "y1 = x\n",
        "y2 = x**2+1\n",
        "y3 = x**3+2\n",
        "\n",
        "plt.plot(x, y1, label=\"$x$\")\n",
        "plt.plot(x, y2, label=\"$x^2+1$\")\n",
        "plt.plot(x, y3, label=\"$x^3 + 1$\")\n",
        "plt.grid()\n",
        "plt.legend()"
      ],
      "metadata": {
        "id": "h7J89LLBHyht",
        "outputId": "63d2b1da-a89e-4c29-deb4-ed837297b9b9",
        "colab": {
          "base_uri": "https://localhost:8080/",
          "height": 448
        }
      },
      "execution_count": 96,
      "outputs": [
        {
          "output_type": "execute_result",
          "data": {
            "text/plain": [
              "<matplotlib.legend.Legend at 0x7b845e43ecd0>"
            ]
          },
          "metadata": {},
          "execution_count": 96
        },
        {
          "output_type": "display_data",
          "data": {
            "text/plain": [
              "<Figure size 640x480 with 1 Axes>"
            ],
            "image/png": "[encoded data removed]"
          },
          "metadata": {}
        }
      ]
    },
    {
      "cell_type": "code",
      "source": [
        "# L1.6\n",
        "\n",
        "A = np.array([[1,2,0],\n",
        "              [3,0,1],\n",
        "              [1,7,-5]])\n",
        "b = np.array([1,2,3])\n",
        "v = np.linalg.solve(A,b)\n",
        "\n",
        "\n",
        "\n",
        "#test\n",
        "print(v)\n",
        "print(f\"x={v[0]}, y={v[1]}, z={v[2]}\")\n",
        "\n",
        "# czemu tak dziwnie się robi?"
      ],
      "metadata": {
        "id": "mVkQNsy2Jz_V",
        "outputId": "c063e5b0-79be-4a71-e107-8b58a598476f",
        "colab": {
          "base_uri": "https://localhost:8080/"
        }
      },
      "execution_count": 108,
      "outputs": [
        {
          "output_type": "stream",
          "name": "stdout",
          "text": [
            "[ 0.76  0.12 -0.28]\n",
            "x=0.7599999999999999, y=0.1200000000000001, z=-0.2799999999999999\n"
          ]
        }
      ]
    },
    {
      "cell_type": "code",
      "source": [],
      "metadata": {
        "id": "M_Eb_uDVNPeO"
      },
      "execution_count": null,
      "outputs": []
    }
  ]
}